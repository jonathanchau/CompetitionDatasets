{
  "cells": [
    {
      "cell_type": "code",
      "execution_count": null,
      "id": "b6ed0e27",
      "metadata": {
        "id": "b6ed0e27"
      },
      "outputs": [],
      "source": [
        "import pandas as pd\n",
        "import numpy as np"
      ]
    }
  ],
  "metadata": {
    "kernelspec": {
      "display_name": "dataproject",
      "language": "python",
      "name": "dataproject"
    },
    "colab": {
      "provenance": []
    }
  },
  "nbformat": 4,
  "nbformat_minor": 5
}